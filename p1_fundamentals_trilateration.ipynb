{
  "cells": [
    {
      "cell_type": "markdown",
      "metadata": {
        "id": "view-in-github",
        "colab_type": "text"
      },
      "source": [
        "<a href=\"https://colab.research.google.com/github/nadiagonzzalez/pai-uab-2024/blob/main/p1_fundamentals_trilateration.ipynb\" target=\"_parent\"><img src=\"https://colab.research.google.com/assets/colab-badge.svg\" alt=\"Open In Colab\"/></a>"
      ]
    },
    {
      "cell_type": "markdown",
      "metadata": {
        "id": "o6baNCZqKbVf"
      },
      "source": [
        "# LOCALIZATION SYSTEMS – Fundamentals and principles of operation (Practice 1)\n",
        "\n",
        "To run this practice using Google's collab, follow this link [![Open In Colab](https://colab.research.google.com/assets/colab-badge.svg)](https://colab.research.google.com/github/mgfernan/gsl_uab/blob/main/p1_fundamentals_trilateration.ipynb)\n",
        "\n",
        "In this practice, we will focus on the **Time-of-Arrival (TOA)** fundamentals and we will analyze how to estimate the position in presence of noise by means of an **iterative algorithm**. For this purpose, we will use Jupyter Notebook, that is based on Python, a popular high-level programming language."
      ]
    },
    {
      "cell_type": "code",
      "execution_count": 2,
      "metadata": {
        "id": "lO6AQrGoJmBN"
      },
      "outputs": [],
      "source": [
        "# Add some required libraries\n",
        "import math\n",
        "import numpy as np\n",
        "from typing import List, Tuple\n",
        "\n",
        "import matplotlib.pyplot as plt\n",
        "\n",
        "from ipywidgets import interactive, fixed\n",
        "from IPython.display import display"
      ]
    },
    {
      "cell_type": "markdown",
      "metadata": {
        "id": "9mts_6MKmsTx"
      },
      "source": [
        "Let's define several methods that will be used later in the practice"
      ]
    },
    {
      "cell_type": "code",
      "execution_count": null,
      "metadata": {
        "id": "gSOyrTtxXzfB"
      },
      "outputs": [],
      "source": [
        "# ------------------------------------------------------------------------------\n",
        "\n",
        "def generate_noise_sample(signal:float, snr_dB:float) -> float:\n",
        "\n",
        "  # sigma2--square of sigma, here we use: SNR_dB = 10log(d^2/sigma^2)\n",
        "  sigma2 = signal**2 / math.pow(10, snr_dB / 10)\n",
        "\n",
        "  # We assume additive gaussian noise\n",
        "  noise = np.random.normal() * math.sqrt(sigma2)\n",
        "\n",
        "  return noise\n",
        "\n",
        "# ------------------------------------------------------------------------------\n",
        "\n",
        "def plot_trilateration(nodes, x, y, activate_noise=False, snr_db=None):\n",
        "\n",
        "    figure, axes = plt.subplots()\n",
        "\n",
        "    circles = []\n",
        "    ranges = []\n",
        "\n",
        "    for node in nodes:\n",
        "      # Compute the distance between the node and the receiver\n",
        "      radius_m = math.sqrt((node[0]-x)**2 + (node[1]-y)**2)\n",
        "\n",
        "      # Add noise if set\n",
        "      if activate_noise:\n",
        "        radius_m += generate_noise_sample(radius_m, snr_db)\n",
        "\n",
        "      ranges.append(radius_m)\n",
        "\n",
        "      axes.text(node[0] + 0.5, node[1] + 0.5, f'{radius_m:.2f} m')\n",
        "\n",
        "      circle = plt.Circle(node, radius=radius_m, fill=False)\n",
        "      circles.append(circle)\n",
        "\n",
        "    for circle in circles:\n",
        "      axes.add_artist(circle)\n",
        "\n",
        "    axes.axis([-10, 20, -10, 20])\n",
        "    axes.set_aspect(\"equal\")\n",
        "    axes.plot(node_x_values, node_y_values, 'D', c='red', markersize=10)\n",
        "    axes.plot(x, y, 'p', c='blue', markersize=10)\n",
        "\n",
        "    plt.title( 'Trilateration principle (without noise)' )\n",
        "    plt.show()\n",
        "\n",
        "    return ranges\n",
        "\n",
        "# ------------------------------------------------------------------------------\n",
        "\n",
        "def compute_range(from_position:List[float], to_position:List[float]) -> float:\n",
        "\n",
        "  return np.linalg.norm(np.subtract(to_position, from_position))\n",
        "\n",
        "# ------------------------------------------------------------------------------\n",
        "\n",
        "def compute_gradient(nodes:List[List[float]], ranges:List[float], rx_position:List[float]) -> List[float]:\n",
        "\n",
        "  n_nodes = len(nodes)\n",
        "\n",
        "  gradient = [0.0, 0.0]\n",
        "\n",
        "  # Compute the vector differences between the given position and the nodes\n",
        "  pos_diff_to_nodes = np.subtract(rx_position, nodes)\n",
        "\n",
        "  # Compute the norm of each vector difference (i.e. computed ranges)\n",
        "  range_aprioris = np.linalg.norm(pos_diff_to_nodes, axis=1)\n",
        "\n",
        "  # Compute the range differences betweem the incoming (observed) and computed\n",
        "  # This amount is also called pre-fit residuals\n",
        "  range_differences = ranges - range_aprioris\n",
        "\n",
        "  # Compute the partials as division of each component by the range to each node\n",
        "  partials = pos_diff_to_nodes / range_aprioris.reshape(n_nodes, 1)\n",
        "\n",
        "  # Compute the gradient components\n",
        "  gradient_components = range_differences.reshape(n_nodes, 1) * partials\n",
        "  gradient_x = gradient_components[:, 0]\n",
        "  gradient_y = gradient_components[:, 1]\n",
        "\n",
        "  return -2.0 * np.array([sum(gradient_x), sum(gradient_y)])\n",
        "\n",
        "# ------------------------------------------------------------------------------\n",
        "\n",
        "def steepest_descent(nodes,\n",
        "                     ranges,\n",
        "                     apriori:Tuple[float, float] = (0.0, 0.0),\n",
        "                     step:float= 0.1,\n",
        "                     num_iterations:int = 30) -> List[Tuple[float, float]]:\n",
        "\n",
        "    estimations = []\n",
        "\n",
        "    x = np.array(apriori)\n",
        "\n",
        "    for i in range(num_iterations):\n",
        "\n",
        "      gradient = compute_gradient(nodes, ranges, x)\n",
        "\n",
        "      x = np.subtract(x, step * gradient)\n",
        "\n",
        "      estimations.append(x)\n",
        "\n",
        "    return np.array(estimations)\n",
        "\n",
        "# ------------------------------------------------------------------------------"
      ]
    },
    {
      "cell_type": "markdown",
      "metadata": {
        "id": "TnBmIS4VK3uz"
      },
      "source": [
        "## Scenario definition\n",
        "\n",
        "First, we will define the coordinates for the nodes that will be used for the computation of the user location by means of the TOA technique."
      ]
    },
    {
      "cell_type": "code",
      "execution_count": 3,
      "metadata": {
        "id": "ixGciI3vKd3_"
      },
      "outputs": [],
      "source": [
        "# Node coordinates (we create a Numpy Array to take advantage of the cool indexing features)\n",
        "\n",
        "\n",
        "nodes = np.array([\n",
        "         [0, 0],\n",
        "         [0, 10],\n",
        "         [10, 0]\n",
        "])\n",
        "\n",
        "# Number of nodes\n",
        "n_nodes = len(nodes)"
      ]
    },
    {
      "cell_type": "markdown",
      "metadata": {
        "id": "FJCAK85hLTt9"
      },
      "source": [
        "`nodes` can also be considered a matrix that contains the coordinates of all the nodes; as we will see later, this matrix will be very useful in order to obtain the coordinates for each node by means of an iterative loop (like `for`)."
      ]
    },
    {
      "cell_type": "markdown",
      "metadata": {
        "id": "nI5QY4l4LhDZ"
      },
      "source": [
        "**Exercise 1**\n",
        "\n",
        "**Examine the how the matrix `nodes` has been built in order to understand how the coordinates of the nodes are stored (rows and columns). Then, copy and complete the following code in order to plot the coordinates in a figure.**\n",
        "\n"
      ]
    },
    {
      "cell_type": "code",
      "execution_count": 4,
      "metadata": {
        "colab": {
          "base_uri": "https://localhost:8080/",
          "height": 489
        },
        "id": "2_x50L-ULMiE",
        "outputId": "ef82f072-6f7d-408a-9dc0-93294fca7d6b"
      },
      "outputs": [
        {
          "output_type": "execute_result",
          "data": {
            "text/plain": [
              "[<matplotlib.lines.Line2D at 0x7d0684480990>]"
            ]
          },
          "metadata": {},
          "execution_count": 4
        },
        {
          "output_type": "display_data",
          "data": {
            "text/plain": [
              "<Figure size 640x480 with 1 Axes>"
            ],
            "image/png": "[encoded data removed]"
          },
          "metadata": {}
        }
      ],
      "source": [
        "\n",
        "\n",
        "node_x_values = nodes[:,0] #specification to write all the rows, column 0 (X)\n",
        "node_y_values = nodes[:,1] #specidication to write all the rows, column 1 (Y)\n",
        "\n",
        "plt.title('Position of nodes')\n",
        "plt.xlabel('X coordinate')\n",
        "plt.ylabel('Y coordinate')\n",
        "plt.grid()\n",
        "\n",
        "#The following line draws the red diamond dots on the grid.\n",
        "plt.plot(node_x_values, node_y_values, 'D', c='red', markersize=10)\n"
      ]
    },
    {
      "cell_type": "markdown",
      "metadata": {
        "id": "mgCLJGNuSMwA"
      },
      "source": [
        "The plot function plot expects, respectively, the abscissas and ordinates of the node coordinates in the first two parameters. The third parameter is used to define the style of the dots (`D` indicates diamonds).\n",
        "\n",
        "## Trilateration principle\n",
        "\n",
        "For the first part of the practice, we will assume a **noise-free scenario**.\n",
        "\n",
        "If we have three `nodes` and the corresponding distances (Time-of-arrival) to our receiver, we can compute our position based on trilaterating the 3 circles defined by this distances and the center of the circunference defined by each node. You can practice with the following widget for different receiver positions (move the X and Y sliders).\n",
        "\n",
        "**Note**: For now, leave `snr_db` to 0 (this slider controls the noise of the measurements and will be used later)"
      ]
    },
    {
      "cell_type": "code",
      "execution_count": 8,
      "metadata": {
        "colab": {
          "base_uri": "https://localhost:8080/",
          "height": 580,
          "referenced_widgets": [
            "04428b5ce077419bbb847127b1e62cf3",
            "5d0244c8c69d46808fa75f90ee8136c3",
            "e44d749f1f86448480f89d6616f1926a",
            "aac304daef9b41fcb81fd8f9ae04e5a6",
            "4ba2f376210142f780fc69a0c545cb49",
            "b6ea4845c19b43babdc89858385ec67b",
            "fa36ed6d14c8474aa4ba673dd99687a2",
            "8d98fa46187d497a89288c3e014c26d3",
            "fcc5c7c7041c4177855f11b286969ed2",
            "6a859e099e174e0db03f584b601d9464",
            "a6c72e8c1d2c4b31939d8dfc28ff0f57",
            "39fb1148145344568d864af957acd75a",
            "b955aef54f414a88ad19f6d3062d848c",
            "e991deb68eff4f62bbbf74b6ae173667",
            "69af184f094049608f1657ddd252817f",
            "e42d3ea83ba148569cf6307cc4067549"
          ]
        },
        "id": "Zqn1Rz22Y2FL",
        "outputId": "07b5d943-6927-4d15-a9ac-4664f7795106"
      },
      "outputs": [
        {
          "output_type": "display_data",
          "data": {
            "text/plain": [
              "interactive(children=(IntSlider(value=4, description='x', max=12, min=-4), IntSlider(value=4, description='y',…"
            ],
            "application/vnd.jupyter.widget-view+json": {
              "version_major": 2,
              "version_minor": 0,
              "model_id": "04428b5ce077419bbb847127b1e62cf3"
            }
          },
          "metadata": {}
        }
      ],
      "source": [
        "widget = interactive(plot_trilateration, x=4, y=4, activate_noise=True, snr_db=(1,30), nodes=fixed(nodes))\n",
        "display(widget)"
      ]
    },
    {
      "cell_type": "code",
      "source": [
        "def plot_trilateration(nodes, x, y, activate_noise=True, snr_db=None):\n",
        "\n",
        "    figure, axes = plt.subplots()\n",
        "\n",
        "    circles = []\n",
        "    ranges = []\n",
        "\n",
        "    for node in nodes:\n",
        "      # Compute the distance between the node and the receiver\n",
        "      radius_m = math.sqrt((node[0]-x)**2 + (node[1]-y)**2)\n",
        "\n",
        "      # Add noise if set\n",
        "      if activate_noise:\n",
        "        radius_m += generate_noise_sample(radius_m, snr_db)\n",
        "\n",
        "      ranges.append(radius_m)\n",
        "\n",
        "      axes.text(node[0] + 0.5, node[1] + 0.5, f'{radius_m:.2f} m')\n",
        "\n",
        "      circle = plt.Circle(node, radius=radius_m, fill=False)\n",
        "      circles.append(circle)\n",
        "\n",
        "    for circle in circles:\n",
        "      axes.add_artist(circle)\n",
        "\n",
        "    axes.axis([-10, 20, -10, 20])\n",
        "    axes.set_aspect(\"equal\")\n",
        "    axes.plot(node_x_values, node_y_values, 'D', c='red', markersize=10)\n",
        "    axes.plot(x, y, 'p', c='blue', markersize=10)\n",
        "\n",
        "    plt.title( 'Trilateration principle (without noise)' )\n",
        "    plt.show()\n",
        "\n",
        "    return ranges"
      ],
      "metadata": {
        "id": "1Fmau8OP-MZ-"
      },
      "execution_count": 5,
      "outputs": []
    },
    {
      "cell_type": "code",
      "source": [
        "def generate_noise_sample(signal:float, snr_dB:float) -> float:\n",
        "\n",
        "  # sigma2--square of sigma, here we use: SNR_dB = 10log(d^2/sigma^2)\n",
        "  sigma2 = signal**2 / math.pow(10, snr_dB / 10)\n",
        "\n",
        "  # We assume additive gaussian noise\n",
        "  noise = np.random.normal() * math.sqrt(sigma2)\n",
        "\n",
        "  return noise"
      ],
      "metadata": {
        "id": "tWE-vDmnpxCH"
      },
      "execution_count": 6,
      "outputs": []
    },
    {
      "cell_type": "code",
      "execution_count": 9,
      "metadata": {
        "colab": {
          "base_uri": "https://localhost:8080/"
        },
        "id": "4F4Mew9Tt_GE",
        "outputId": "f39da6f1-bea4-41d6-f937-2a1729b2d95c"
      },
      "outputs": [
        {
          "output_type": "execute_result",
          "data": {
            "text/plain": [
              "[5.375866859239891, 6.563819279488646, 8.669090848825267]"
            ]
          },
          "metadata": {},
          "execution_count": 9
        }
      ],
      "source": [
        "# Retrieve the range values from the interactive widget\n",
        "ranges = widget.result\n",
        "ranges"
      ]
    },
    {
      "cell_type": "code",
      "execution_count": 10,
      "metadata": {
        "colab": {
          "base_uri": "https://localhost:8080/"
        },
        "id": "6joBkXDeNhNO",
        "outputId": "72209f0d-9815-4ae2-c336-c63fb0de354e"
      },
      "outputs": [
        {
          "output_type": "execute_result",
          "data": {
            "text/plain": [
              "[4, 4]"
            ]
          },
          "metadata": {},
          "execution_count": 10
        }
      ],
      "source": [
        "# Retrieve the true position from the interactive widget\n",
        "input_values = {c.description:c.value for c in widget.children if hasattr(c, 'description') and c.description in 'xy'}\n",
        "true_position = [input_values['x'], input_values['y']]\n",
        "true_position"
      ]
    },
    {
      "cell_type": "markdown",
      "metadata": {
        "id": "DaJTsatzge8p"
      },
      "source": [
        "**Exercise 3**\n",
        "\n",
        "**Given a known set of coordinates for the user terminal, compute all the ranges to each node by means of the Euclidian distance with respect to the coordinates of the nodes. Verify that the ranges are consistent with the plot above. Compute the Time of arrival (TOA) for these ranges.**"
      ]
    },
    {
      "cell_type": "markdown",
      "metadata": {
        "id": "a-OkjftBhCmD"
      },
      "source": [
        "Next, we will analyze the scenario in presence of noise. Go back to the interactive plot above and play with the `snr_db` slider. The larger the value, the larger the noise and the uncertainty in the position of our receiver will also increase.\n",
        "\n",
        "The 3 circles do not intersect anymore!"
      ]
    },
    {
      "cell_type": "code",
      "source": [
        "nodes[0]"
      ],
      "metadata": {
        "id": "rYh9BULhFspb",
        "outputId": "8dd30be7-f982-4cbb-f0fa-6d676e4b54af",
        "colab": {
          "base_uri": "https://localhost:8080/"
        }
      },
      "execution_count": 21,
      "outputs": [
        {
          "output_type": "execute_result",
          "data": {
            "text/plain": [
              "array([0, 0])"
            ]
          },
          "metadata": {},
          "execution_count": 21
        }
      ]
    },
    {
      "cell_type": "code",
      "source": [
        "true_position"
      ],
      "metadata": {
        "id": "Qr4wqYDjJceV",
        "outputId": "a568c6a7-7f2e-4761-f593-b840cdb0104e",
        "colab": {
          "base_uri": "https://localhost:8080/"
        }
      },
      "execution_count": 22,
      "outputs": [
        {
          "output_type": "execute_result",
          "data": {
            "text/plain": [
              "[4, 4]"
            ]
          },
          "metadata": {},
          "execution_count": 22
        }
      ]
    },
    {
      "cell_type": "code",
      "source": [
        "def compute_range(from_position:List[float], to_position:List[float]) -> float:\n",
        "\n",
        "  return np.linalg.norm(np.subtract(to_position, from_position))\n",
        "\n",
        "compute_range(nodes[0], true_position)\n"
      ],
      "metadata": {
        "id": "_yqxduUAINaK",
        "outputId": "bf510473-dad4-4eda-f011-4b193bb851ef",
        "colab": {
          "base_uri": "https://localhost:8080/"
        }
      },
      "execution_count": 13,
      "outputs": [
        {
          "output_type": "execute_result",
          "data": {
            "text/plain": [
              "np.float64(5.656854249492381)"
            ]
          },
          "metadata": {},
          "execution_count": 13
        }
      ]
    },
    {
      "cell_type": "code",
      "source": [
        "compute_range(nodes[1], true_position)\n"
      ],
      "metadata": {
        "id": "MF3ri3fEKvgL",
        "outputId": "dd556e4c-92a8-4949-c7bc-1ced5304e2e0",
        "colab": {
          "base_uri": "https://localhost:8080/"
        }
      },
      "execution_count": 14,
      "outputs": [
        {
          "output_type": "execute_result",
          "data": {
            "text/plain": [
              "np.float64(7.211102550927978)"
            ]
          },
          "metadata": {},
          "execution_count": 14
        }
      ]
    },
    {
      "cell_type": "code",
      "source": [
        "compute_range(nodes[2], true_position)"
      ],
      "metadata": {
        "id": "G2LTGEu8Kwwq",
        "outputId": "e718f817-6fa0-4d91-e7c2-33fe29e24925",
        "colab": {
          "base_uri": "https://localhost:8080/"
        }
      },
      "execution_count": 15,
      "outputs": [
        {
          "output_type": "execute_result",
          "data": {
            "text/plain": [
              "np.float64(7.211102550927978)"
            ]
          },
          "metadata": {},
          "execution_count": 15
        }
      ]
    },
    {
      "cell_type": "markdown",
      "metadata": {
        "id": "7K9vxWu5zPbj"
      },
      "source": [
        "**Exercise 4**\n",
        "\n",
        "**Analyze this noise function and describe it. Which kind of noise is added?**\n",
        "\n",
        "Tip: in Python try to use the `help(<function>)` command to get the description\n",
        "of a particular method or function\n",
        "\n",
        "\n",
        "\n"
      ]
    },
    {
      "cell_type": "code",
      "source": [
        "def generate_noise_sample(signal:float, snr_dB:float) -> float:\n",
        "\n",
        "  # sigma2--square of sigma, here we use: SNR_dB = 10log(d^2/sigma^2)\n",
        "  sigma2 = signal**2 / math.pow(10, snr_dB / 10)\n",
        "\n",
        "  # We assume additive gaussian noise\n",
        "  noise = np.random.normal() * math.sqrt(sigma2)\n",
        "\n",
        "  return noise"
      ],
      "metadata": {
        "id": "sOaC6u-yyATX"
      },
      "execution_count": 16,
      "outputs": []
    },
    {
      "cell_type": "markdown",
      "metadata": {
        "id": "-aKOi01-oF4F"
      },
      "source": [
        "## Finding receiver position with noisy measurements\n",
        "\n",
        "As mentioned before the circles won’t intersect anymore if the measurements are affected by noise. Therefore, we will analyze how to estimate the position from the measured data in these scenarios, in order to obtain a more accurate position. In our case, we will choose the NLS (Non- Linear Least Square) criterion since the function of the position `u` is non-linear. This criterion minimizes the square error, however do not expect this estimation will have some noise and, depending on the geometry of the scenario, it may converge to wrong positions: for instance in the case if 2 circles intersect in 2 positions and the third is between them.\n",
        "\n",
        "In this practice, the solution will be estimated by means of an iterative algorithm called **Steepest descent**, as we will analyze next. The Non-Linear Least Square Steepest Descent algorithm is encapsulated in the function `steepest_descent` in the code above."
      ]
    },
    {
      "cell_type": "code",
      "source": [
        "def steepest_descent(nodes,\n",
        "                     ranges,\n",
        "                     apriori:Tuple[float, float] = (0.0, 0.0),\n",
        "                     step:float= 0.1,\n",
        "                     num_iterations:int = 30) -> List[Tuple[float, float]]:\n",
        "\n",
        "    estimations = []\n",
        "\n",
        "    x = np.array(apriori)\n",
        "\n",
        "    for i in range(num_iterations):\n",
        "\n",
        "      gradient = compute_gradient(nodes, ranges, x)\n",
        "\n",
        "      x = np.subtract(x, step * gradient)\n",
        "\n",
        "      estimations.append(x)\n",
        "\n",
        "    return np.array(estimations)\n"
      ],
      "metadata": {
        "id": "EkXVqJlgySxq"
      },
      "execution_count": 17,
      "outputs": []
    },
    {
      "cell_type": "code",
      "source": [
        "def compute_gradient(nodes:List[List[float]], ranges:List[float], rx_position:List[float]) -> List[float]:\n",
        "\n",
        "  n_nodes = len(nodes)\n",
        "\n",
        "  gradient = [0.0, 0.0]\n",
        "\n",
        "  # Compute the vector differences between the given position and the nodes\n",
        "  pos_diff_to_nodes = np.subtract(rx_position, nodes)\n",
        "\n",
        "  # Compute the norm of each vector difference (i.e. computed ranges)\n",
        "  range_aprioris = np.linalg.norm(pos_diff_to_nodes, axis=1)\n",
        "\n",
        "  # Compute the range differences betweem the incoming (observed) and computed\n",
        "  # This amount is also called pre-fit residuals\n",
        "  range_differences = ranges - range_aprioris\n",
        "\n",
        "  # Compute the partials as division of each component by the range to each node\n",
        "  partials = pos_diff_to_nodes / range_aprioris.reshape(n_nodes, 1)\n",
        "\n",
        "  # Compute the gradient components\n",
        "  gradient_components = range_differences.reshape(n_nodes, 1) * partials\n",
        "  gradient_x = gradient_components[:, 0]\n",
        "  gradient_y = gradient_components[:, 1]\n",
        "\n",
        "  return -2.0 * np.array([sum(gradient_x), sum(gradient_y)])"
      ],
      "metadata": {
        "id": "VfiH0NInydME"
      },
      "execution_count": 18,
      "outputs": []
    },
    {
      "cell_type": "code",
      "execution_count": 19,
      "metadata": {
        "id": "YC-MDyRfgSxH"
      },
      "outputs": [],
      "source": [
        "\n",
        "# Number of iterations\n",
        "num_iterations = 30;\n",
        "\n",
        "# Initial estimation of the position (initial guess also known as apriori)\n",
        "apriori = (5, 2)\n",
        "\n",
        "# Mu step\n",
        "mu_step = 0.1\n",
        "\n",
        "estimations = steepest_descent(nodes, ranges, apriori, step=mu_step, num_iterations=num_iterations)\n",
        "final_estimation = estimations[-1]"
      ]
    },
    {
      "cell_type": "markdown",
      "metadata": {
        "id": "K80GDSg-P715"
      },
      "source": [
        "The following cell plots the final result (the node positions, the true position as specified above as well as the estimated position with the Steepest Descent technique"
      ]
    },
    {
      "cell_type": "code",
      "execution_count": 20,
      "metadata": {
        "colab": {
          "base_uri": "https://localhost:8080/",
          "height": 447
        },
        "id": "_HpTi1s-qcUQ",
        "outputId": "0f67ed48-cd20-42b5-c95a-689f50227088"
      },
      "outputs": [
        {
          "output_type": "execute_result",
          "data": {
            "text/plain": [
              "[<matplotlib.lines.Line2D at 0x7d066c4ed990>]"
            ]
          },
          "metadata": {},
          "execution_count": 20
        },
        {
          "output_type": "display_data",
          "data": {
            "text/plain": [
              "<Figure size 640x480 with 1 Axes>"
            ],
            "image/png": "[encoded data removed]"
          },
          "metadata": {}
        }
      ],
      "source": [
        "# All solutions estimated by the SD algorithm\n",
        "plt.plot(estimations[:, 0], estimations[:, 1], '.', color='grey')\n",
        "\n",
        "# Last solution estimated by the SD algorithm\n",
        "plt.plot(final_estimation[0], final_estimation[1], 'D', color='black', markersize=10)\n",
        "\n",
        "# True position\n",
        "plt.plot(true_position[0], true_position[1], 'D', color='blue', markersize=10)\n",
        "\n",
        "# Nodes\n",
        "plt.plot(node_x_values, node_y_values, 'D', c='red', markersize=10)"
      ]
    },
    {
      "cell_type": "markdown",
      "metadata": {
        "id": "QCk0Imy1SEuf"
      },
      "source": [
        "<strong>\n",
        "Exercise 5\n",
        "\n",
        "Set a *high* SNR value (`snr_db`), between 20dB and 30dB. As you know, SNR stands for Signal-to-Noise Ratio, therefore, what do you think a *high SNR ratio* mean? Run the cells and analyze the results obtained in function of the different parameters:\n",
        "\n",
        "- the initial estimate of the position\n",
        "- the number of iterations\n",
        "- the step size of the algorithm\n",
        "\n",
        "How each of these parameters affect the final estimate obtained? Justify the answers.\n",
        "</strong>"
      ]
    },
    {
      "cell_type": "code",
      "source": [
        "nodes[0]"
      ],
      "metadata": {
        "id": "G9r7rDrG_Lwq",
        "outputId": "ff15cdc6-57b9-4451-8ba4-428fea926420",
        "colab": {
          "base_uri": "https://localhost:8080/"
        }
      },
      "execution_count": 23,
      "outputs": [
        {
          "output_type": "execute_result",
          "data": {
            "text/plain": [
              "array([0, 0])"
            ]
          },
          "metadata": {},
          "execution_count": 23
        }
      ]
    },
    {
      "cell_type": "code",
      "source": [
        "true_position"
      ],
      "metadata": {
        "id": "ntlezxmLAyzV",
        "outputId": "3d3a3281-db04-4d11-8113-7af30e28496b",
        "colab": {
          "base_uri": "https://localhost:8080/"
        }
      },
      "execution_count": 24,
      "outputs": [
        {
          "output_type": "execute_result",
          "data": {
            "text/plain": [
              "[4, 4]"
            ]
          },
          "metadata": {},
          "execution_count": 24
        }
      ]
    },
    {
      "cell_type": "code",
      "source": [
        "def generate_noise_sample(signal:float, snr_dB:float) -> float:\n",
        "\n",
        "  # sigma2--square of sigma, here we use: SNR_dB = 10log(d^2/sigma^2)\n",
        "  sigma2 = signal**2 / math.pow(10, snr_dB / 10)\n",
        "\n",
        "  # We assume additive gaussian noise\n",
        "  noise = np.random.normal() * math.sqrt(sigma2)\n",
        "\n",
        "  return noise\n"
      ],
      "metadata": {
        "id": "UoY1_440A1p7"
      },
      "execution_count": 25,
      "outputs": []
    },
    {
      "cell_type": "code",
      "source": [
        "def plot_trilateration(nodes, x, y, activate_noise=False, snr_db=None):\n",
        "\n",
        "    figure, axes = plt.subplots()\n",
        "\n",
        "    circles = []\n",
        "    ranges = []\n",
        "\n",
        "    for node in nodes:\n",
        "      # Compute the distance between the node and the receiver\n",
        "      radius_m = math.sqrt((node[0]-x)**2 + (node[1]-y)**2)\n",
        "\n",
        "      # Add noise if set\n",
        "      if activate_noise:\n",
        "        radius_m += generate_noise_sample(radius_m, snr_db)\n",
        "\n",
        "      ranges.append(radius_m)\n",
        "\n",
        "      axes.text(node[0] + 0.5, node[1] + 0.5, f'{radius_m:.2f} m')\n",
        "\n",
        "      circle = plt.Circle(node, radius=radius_m, fill=False)\n",
        "      circles.append(circle)\n",
        "\n",
        "    for circle in circles:\n",
        "      axes.add_artist(circle)\n",
        "\n",
        "    axes.axis([-10, 20, -10, 20])\n",
        "    axes.set_aspect(\"equal\")\n",
        "    axes.plot(node_x_values, node_y_values, 'D', c='red', markersize=10)\n",
        "    axes.plot(x, y, 'p', c='blue', markersize=10)\n",
        "\n",
        "    plt.title( 'Trilateration principle (without noise)' )\n",
        "    plt.show()\n",
        "\n",
        "    return ranges"
      ],
      "metadata": {
        "id": "wcsTlNgkBEig"
      },
      "execution_count": 26,
      "outputs": []
    },
    {
      "cell_type": "code",
      "source": [
        "def compute_gradient(nodes:List[List[float]], ranges:List[float], rx_position:List[float]) -> List[float]:\n",
        "\n",
        "  n_nodes = len(nodes)\n",
        "\n",
        "  gradient = [0.0, 0.0]\n",
        "\n",
        "  # Compute the vector differences between the given position and the nodes\n",
        "  pos_diff_to_nodes = np.subtract(rx_position, nodes)\n",
        "\n",
        "  # Compute the norm of each vector difference (i.e. computed ranges)\n",
        "  range_aprioris = np.linalg.norm(pos_diff_to_nodes, axis=1)\n",
        "\n",
        "  # Compute the range differences betweem the incoming (observed) and computed\n",
        "  # This amount is also called pre-fit residuals\n",
        "  range_differences = ranges - range_aprioris\n",
        "\n",
        "  # Compute the partials as division of each component by the range to each node\n",
        "  partials = pos_diff_to_nodes / range_aprioris.reshape(n_nodes, 1)\n",
        "\n",
        "  # Compute the gradient components\n",
        "  gradient_components = range_differences.reshape(n_nodes, 1) * partials\n",
        "  gradient_x = gradient_components[:, 0]\n",
        "  gradient_y = gradient_components[:, 1]\n",
        "\n",
        "  return -2.0 * np.array([sum(gradient_x), sum(gradient_y)])"
      ],
      "metadata": {
        "id": "5SpmZEiPBKNP"
      },
      "execution_count": 27,
      "outputs": []
    },
    {
      "cell_type": "code",
      "source": [
        "def steepest_descent(nodes,\n",
        "                     ranges,\n",
        "                     apriori:Tuple[float, float] = (0.0, 0.0),\n",
        "                     step:float= 0.1,\n",
        "                     num_iterations:int = 30) -> List[Tuple[float, float]]:\n",
        "\n",
        "    estimations = []\n",
        "\n",
        "    x = np.array(apriori)\n",
        "\n",
        "    for i in range(num_iterations):\n",
        "\n",
        "      gradient = compute_gradient(nodes, ranges, x)\n",
        "\n",
        "      x = np.subtract(x, step * gradient)\n",
        "\n",
        "      estimations.append(x)\n",
        "\n",
        "    return np.array(estimations)\n"
      ],
      "metadata": {
        "id": "eInhD_hIBZga"
      },
      "execution_count": 28,
      "outputs": []
    },
    {
      "cell_type": "code",
      "source": [
        "# SNR values\n",
        "snr_db = 5 # Low SNR value\n",
        "\n",
        "# Number of iterations\n",
        "num_iterations = 30;\n",
        "\n",
        "# Initial estimation of the position (initial guess also known as apriori)\n",
        "apriori = (5, 2)\n",
        "\n",
        "# Mu step\n",
        "mu_step = 0.1\n",
        "\n",
        "estimations = steepest_descent(nodes, ranges, apriori, step=mu_step, num_iterations=num_iterations)\n",
        "final_estimation = estimations[-1]"
      ],
      "metadata": {
        "id": "zoORVudoB6oe"
      },
      "execution_count": 43,
      "outputs": []
    },
    {
      "cell_type": "code",
      "source": [
        "\n",
        "# Generate ranges with noise\n",
        "ranges = plot_trilateration(nodes, true_position[0], true_position[1], activate_noise=True, snr_db=snr_db)\n",
        "\n",
        "# Perform steepest descent\n",
        "estimations = steepest_descent(nodes, ranges, apriori, step=mu_step, num_iterations=num_iterations)\n",
        "final_estimation = estimations[-1]\n",
        "\n",
        "# Plot results\n",
        "plt.plot(estimations[:, 0], estimations[:, 1], '.', color='grey')\n",
        "plt.plot(final_estimation[0], final_estimation[1], 'D', color='black', markersize=10)\n",
        "plt.plot(true_position[0], true_position[1], 'D', color='blue', markersize=10)\n",
        "plt.plot(nodes[:, 0], nodes[:, 1], 'D', c='red', markersize=10)\n",
        "plt.title('Steepest Descent Results with High SNR')\n",
        "plt.xlabel('X coordinate')\n",
        "plt.ylabel('Y coordinate')\n",
        "plt.grid()\n",
        "plt.show()\n",
        "\n",
        "print(f\"Final estimation: {final_estimation}\")\n",
        "print(f\"True position: {true_position}\")\n"
      ],
      "metadata": {
        "id": "L88y3lihCPxC",
        "outputId": "384804d0-e409-4395-b53a-4c3f6d5785a1",
        "colab": {
          "base_uri": "https://localhost:8080/",
          "height": 942
        }
      },
      "execution_count": 44,
      "outputs": [
        {
          "output_type": "display_data",
          "data": {
            "text/plain": [
              "<Figure size 640x480 with 1 Axes>"
            ],
            "image/png": "[encoded data removed]"
          },
          "metadata": {}
        },
        {
          "output_type": "display_data",
          "data": {
            "text/plain": [
              "<Figure size 640x480 with 1 Axes>"
            ],
            "image/png": "[encoded data removed]"
          },
          "metadata": {}
        },
        {
          "output_type": "stream",
          "name": "stdout",
          "text": [
            "Final estimation: [ 9.86160414 -0.30300992]\n",
            "True position: [4, 4]\n"
          ]
        }
      ]
    },
    {
      "cell_type": "markdown",
      "metadata": {
        "id": "BffdbNlKSgU7"
      },
      "source": [
        "<strong>\n",
        "Exercise 6\n",
        "\n",
        "Perform the same analysis of the previous exercise but using now a *lower* SNR (below 10dB). Are the intersection between the circles more defined than the previous exercise? How the noise level on the measurements affect the final result? Which parameters need to be changed in order to compensate this higher noise level? Justify the answers.\n",
        "</strong>"
      ]
    },
    {
      "cell_type": "code",
      "execution_count": null,
      "metadata": {
        "id": "beyYeddQ3BKr"
      },
      "outputs": [],
      "source": []
    }
  ],
  "metadata": {
    "colab": {
      "name": "p1_fundamentals_trilateration.ipynb",
      "provenance": [],
      "include_colab_link": true
    },
    "kernelspec": {
      "display_name": "Python 3",
      "name": "python3"
    },
    "language_info": {
      "name": "python"
    },
    "widgets": {
      "application/vnd.jupyter.widget-state+json": {
        "04428b5ce077419bbb847127b1e62cf3": {
          "model_module": "@jupyter-widgets/controls",
          "model_name": "VBoxModel",
          "model_module_version": "1.5.0",
          "state": {
            "_dom_classes": [
              "widget-interact"
            ],
            "_model_module": "@jupyter-widgets/controls",
            "_model_module_version": "1.5.0",
            "_model_name": "VBoxModel",
            "_view_count": null,
            "_view_module": "@jupyter-widgets/controls",
            "_view_module_version": "1.5.0",
            "_view_name": "VBoxView",
            "box_style": "",
            "children": [
              "IPY_MODEL_5d0244c8c69d46808fa75f90ee8136c3",
              "IPY_MODEL_e44d749f1f86448480f89d6616f1926a",
              "IPY_MODEL_aac304daef9b41fcb81fd8f9ae04e5a6",
              "IPY_MODEL_4ba2f376210142f780fc69a0c545cb49",
              "IPY_MODEL_b6ea4845c19b43babdc89858385ec67b"
            ],
            "layout": "IPY_MODEL_fa36ed6d14c8474aa4ba673dd99687a2"
          }
        },
        "5d0244c8c69d46808fa75f90ee8136c3": {
          "model_module": "@jupyter-widgets/controls",
          "model_name": "IntSliderModel",
          "model_module_version": "1.5.0",
          "state": {
            "_dom_classes": [],
            "_model_module": "@jupyter-widgets/controls",
            "_model_module_version": "1.5.0",
            "_model_name": "IntSliderModel",
            "_view_count": null,
            "_view_module": "@jupyter-widgets/controls",
            "_view_module_version": "1.5.0",
            "_view_name": "IntSliderView",
            "continuous_update": true,
            "description": "x",
            "description_tooltip": null,
            "disabled": false,
            "layout": "IPY_MODEL_8d98fa46187d497a89288c3e014c26d3",
            "max": 12,
            "min": -4,
            "orientation": "horizontal",
            "readout": true,
            "readout_format": "d",
            "step": 1,
            "style": "IPY_MODEL_fcc5c7c7041c4177855f11b286969ed2",
            "value": 4
          }
        },
        "e44d749f1f86448480f89d6616f1926a": {
          "model_module": "@jupyter-widgets/controls",
          "model_name": "IntSliderModel",
          "model_module_version": "1.5.0",
          "state": {
            "_dom_classes": [],
            "_model_module": "@jupyter-widgets/controls",
            "_model_module_version": "1.5.0",
            "_model_name": "IntSliderModel",
            "_view_count": null,
            "_view_module": "@jupyter-widgets/controls",
            "_view_module_version": "1.5.0",
            "_view_name": "IntSliderView",
            "continuous_update": true,
            "description": "y",
            "description_tooltip": null,
            "disabled": false,
            "layout": "IPY_MODEL_6a859e099e174e0db03f584b601d9464",
            "max": 12,
            "min": -4,
            "orientation": "horizontal",
            "readout": true,
            "readout_format": "d",
            "step": 1,
            "style": "IPY_MODEL_a6c72e8c1d2c4b31939d8dfc28ff0f57",
            "value": 4
          }
        },
        "aac304daef9b41fcb81fd8f9ae04e5a6": {
          "model_module": "@jupyter-widgets/controls",
          "model_name": "CheckboxModel",
          "model_module_version": "1.5.0",
          "state": {
            "_dom_classes": [],
            "_model_module": "@jupyter-widgets/controls",
            "_model_module_version": "1.5.0",
            "_model_name": "CheckboxModel",
            "_view_count": null,
            "_view_module": "@jupyter-widgets/controls",
            "_view_module_version": "1.5.0",
            "_view_name": "CheckboxView",
            "description": "activate_noise",
            "description_tooltip": null,
            "disabled": false,
            "indent": true,
            "layout": "IPY_MODEL_39fb1148145344568d864af957acd75a",
            "style": "IPY_MODEL_b955aef54f414a88ad19f6d3062d848c",
            "value": true
          }
        },
        "4ba2f376210142f780fc69a0c545cb49": {
          "model_module": "@jupyter-widgets/controls",
          "model_name": "IntSliderModel",
          "model_module_version": "1.5.0",
          "state": {
            "_dom_classes": [],
            "_model_module": "@jupyter-widgets/controls",
            "_model_module_version": "1.5.0",
            "_model_name": "IntSliderModel",
            "_view_count": null,
            "_view_module": "@jupyter-widgets/controls",
            "_view_module_version": "1.5.0",
            "_view_name": "IntSliderView",
            "continuous_update": true,
            "description": "snr_db",
            "description_tooltip": null,
            "disabled": false,
            "layout": "IPY_MODEL_e991deb68eff4f62bbbf74b6ae173667",
            "max": 30,
            "min": 1,
            "orientation": "horizontal",
            "readout": true,
            "readout_format": "d",
            "step": 1,
            "style": "IPY_MODEL_69af184f094049608f1657ddd252817f",
            "value": 15
          }
        },
        "b6ea4845c19b43babdc89858385ec67b": {
          "model_module": "@jupyter-widgets/output",
          "model_name": "OutputModel",
          "model_module_version": "1.0.0",
          "state": {
            "_dom_classes": [],
            "_model_module": "@jupyter-widgets/output",
            "_model_module_version": "1.0.0",
            "_model_name": "OutputModel",
            "_view_count": null,
            "_view_module": "@jupyter-widgets/output",
            "_view_module_version": "1.0.0",
            "_view_name": "OutputView",
            "layout": "IPY_MODEL_e42d3ea83ba148569cf6307cc4067549",
            "msg_id": "",
            "outputs": [
              {
                "output_type": "display_data",
                "data": {
                  "text/plain": "<Figure size 640x480 with 1 Axes>",
                  "image/png": "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\n"
                },
                "metadata": {}
              }
            ]
          }
        },
        "fa36ed6d14c8474aa4ba673dd99687a2": {
          "model_module": "@jupyter-widgets/base",
          "model_name": "LayoutModel",
          "model_module_version": "1.2.0",
          "state": {
            "_model_module": "@jupyter-widgets/base",
            "_model_module_version": "1.2.0",
            "_model_name": "LayoutModel",
            "_view_count": null,
            "_view_module": "@jupyter-widgets/base",
            "_view_module_version": "1.2.0",
            "_view_name": "LayoutView",
            "align_content": null,
            "align_items": null,
            "align_self": null,
            "border": null,
            "bottom": null,
            "display": null,
            "flex": null,
            "flex_flow": null,
            "grid_area": null,
            "grid_auto_columns": null,
            "grid_auto_flow": null,
            "grid_auto_rows": null,
            "grid_column": null,
            "grid_gap": null,
            "grid_row": null,
            "grid_template_areas": null,
            "grid_template_columns": null,
            "grid_template_rows": null,
            "height": null,
            "justify_content": null,
            "justify_items": null,
            "left": null,
            "margin": null,
            "max_height": null,
            "max_width": null,
            "min_height": null,
            "min_width": null,
            "object_fit": null,
            "object_position": null,
            "order": null,
            "overflow": null,
            "overflow_x": null,
            "overflow_y": null,
            "padding": null,
            "right": null,
            "top": null,
            "visibility": null,
            "width": null
          }
        },
        "8d98fa46187d497a89288c3e014c26d3": {
          "model_module": "@jupyter-widgets/base",
          "model_name": "LayoutModel",
          "model_module_version": "1.2.0",
          "state": {
            "_model_module": "@jupyter-widgets/base",
            "_model_module_version": "1.2.0",
            "_model_name": "LayoutModel",
            "_view_count": null,
            "_view_module": "@jupyter-widgets/base",
            "_view_module_version": "1.2.0",
            "_view_name": "LayoutView",
            "align_content": null,
            "align_items": null,
            "align_self": null,
            "border": null,
            "bottom": null,
            "display": null,
            "flex": null,
            "flex_flow": null,
            "grid_area": null,
            "grid_auto_columns": null,
            "grid_auto_flow": null,
            "grid_auto_rows": null,
            "grid_column": null,
            "grid_gap": null,
            "grid_row": null,
            "grid_template_areas": null,
            "grid_template_columns": null,
            "grid_template_rows": null,
            "height": null,
            "justify_content": null,
            "justify_items": null,
            "left": null,
            "margin": null,
            "max_height": null,
            "max_width": null,
            "min_height": null,
            "min_width": null,
            "object_fit": null,
            "object_position": null,
            "order": null,
            "overflow": null,
            "overflow_x": null,
            "overflow_y": null,
            "padding": null,
            "right": null,
            "top": null,
            "visibility": null,
            "width": null
          }
        },
        "fcc5c7c7041c4177855f11b286969ed2": {
          "model_module": "@jupyter-widgets/controls",
          "model_name": "SliderStyleModel",
          "model_module_version": "1.5.0",
          "state": {
            "_model_module": "@jupyter-widgets/controls",
            "_model_module_version": "1.5.0",
            "_model_name": "SliderStyleModel",
            "_view_count": null,
            "_view_module": "@jupyter-widgets/base",
            "_view_module_version": "1.2.0",
            "_view_name": "StyleView",
            "description_width": "",
            "handle_color": null
          }
        },
        "6a859e099e174e0db03f584b601d9464": {
          "model_module": "@jupyter-widgets/base",
          "model_name": "LayoutModel",
          "model_module_version": "1.2.0",
          "state": {
            "_model_module": "@jupyter-widgets/base",
            "_model_module_version": "1.2.0",
            "_model_name": "LayoutModel",
            "_view_count": null,
            "_view_module": "@jupyter-widgets/base",
            "_view_module_version": "1.2.0",
            "_view_name": "LayoutView",
            "align_content": null,
            "align_items": null,
            "align_self": null,
            "border": null,
            "bottom": null,
            "display": null,
            "flex": null,
            "flex_flow": null,
            "grid_area": null,
            "grid_auto_columns": null,
            "grid_auto_flow": null,
            "grid_auto_rows": null,
            "grid_column": null,
            "grid_gap": null,
            "grid_row": null,
            "grid_template_areas": null,
            "grid_template_columns": null,
            "grid_template_rows": null,
            "height": null,
            "justify_content": null,
            "justify_items": null,
            "left": null,
            "margin": null,
            "max_height": null,
            "max_width": null,
            "min_height": null,
            "min_width": null,
            "object_fit": null,
            "object_position": null,
            "order": null,
            "overflow": null,
            "overflow_x": null,
            "overflow_y": null,
            "padding": null,
            "right": null,
            "top": null,
            "visibility": null,
            "width": null
          }
        },
        "a6c72e8c1d2c4b31939d8dfc28ff0f57": {
          "model_module": "@jupyter-widgets/controls",
          "model_name": "SliderStyleModel",
          "model_module_version": "1.5.0",
          "state": {
            "_model_module": "@jupyter-widgets/controls",
            "_model_module_version": "1.5.0",
            "_model_name": "SliderStyleModel",
            "_view_count": null,
            "_view_module": "@jupyter-widgets/base",
            "_view_module_version": "1.2.0",
            "_view_name": "StyleView",
            "description_width": "",
            "handle_color": null
          }
        },
        "39fb1148145344568d864af957acd75a": {
          "model_module": "@jupyter-widgets/base",
          "model_name": "LayoutModel",
          "model_module_version": "1.2.0",
          "state": {
            "_model_module": "@jupyter-widgets/base",
            "_model_module_version": "1.2.0",
            "_model_name": "LayoutModel",
            "_view_count": null,
            "_view_module": "@jupyter-widgets/base",
            "_view_module_version": "1.2.0",
            "_view_name": "LayoutView",
            "align_content": null,
            "align_items": null,
            "align_self": null,
            "border": null,
            "bottom": null,
            "display": null,
            "flex": null,
            "flex_flow": null,
            "grid_area": null,
            "grid_auto_columns": null,
            "grid_auto_flow": null,
            "grid_auto_rows": null,
            "grid_column": null,
            "grid_gap": null,
            "grid_row": null,
            "grid_template_areas": null,
            "grid_template_columns": null,
            "grid_template_rows": null,
            "height": null,
            "justify_content": null,
            "justify_items": null,
            "left": null,
            "margin": null,
            "max_height": null,
            "max_width": null,
            "min_height": null,
            "min_width": null,
            "object_fit": null,
            "object_position": null,
            "order": null,
            "overflow": null,
            "overflow_x": null,
            "overflow_y": null,
            "padding": null,
            "right": null,
            "top": null,
            "visibility": null,
            "width": null
          }
        },
        "b955aef54f414a88ad19f6d3062d848c": {
          "model_module": "@jupyter-widgets/controls",
          "model_name": "DescriptionStyleModel",
          "model_module_version": "1.5.0",
          "state": {
            "_model_module": "@jupyter-widgets/controls",
            "_model_module_version": "1.5.0",
            "_model_name": "DescriptionStyleModel",
            "_view_count": null,
            "_view_module": "@jupyter-widgets/base",
            "_view_module_version": "1.2.0",
            "_view_name": "StyleView",
            "description_width": ""
          }
        },
        "e991deb68eff4f62bbbf74b6ae173667": {
          "model_module": "@jupyter-widgets/base",
          "model_name": "LayoutModel",
          "model_module_version": "1.2.0",
          "state": {
            "_model_module": "@jupyter-widgets/base",
            "_model_module_version": "1.2.0",
            "_model_name": "LayoutModel",
            "_view_count": null,
            "_view_module": "@jupyter-widgets/base",
            "_view_module_version": "1.2.0",
            "_view_name": "LayoutView",
            "align_content": null,
            "align_items": null,
            "align_self": null,
            "border": null,
            "bottom": null,
            "display": null,
            "flex": null,
            "flex_flow": null,
            "grid_area": null,
            "grid_auto_columns": null,
            "grid_auto_flow": null,
            "grid_auto_rows": null,
            "grid_column": null,
            "grid_gap": null,
            "grid_row": null,
            "grid_template_areas": null,
            "grid_template_columns": null,
            "grid_template_rows": null,
            "height": null,
            "justify_content": null,
            "justify_items": null,
            "left": null,
            "margin": null,
            "max_height": null,
            "max_width": null,
            "min_height": null,
            "min_width": null,
            "object_fit": null,
            "object_position": null,
            "order": null,
            "overflow": null,
            "overflow_x": null,
            "overflow_y": null,
            "padding": null,
            "right": null,
            "top": null,
            "visibility": null,
            "width": null
          }
        },
        "69af184f094049608f1657ddd252817f": {
          "model_module": "@jupyter-widgets/controls",
          "model_name": "SliderStyleModel",
          "model_module_version": "1.5.0",
          "state": {
            "_model_module": "@jupyter-widgets/controls",
            "_model_module_version": "1.5.0",
            "_model_name": "SliderStyleModel",
            "_view_count": null,
            "_view_module": "@jupyter-widgets/base",
            "_view_module_version": "1.2.0",
            "_view_name": "StyleView",
            "description_width": "",
            "handle_color": null
          }
        },
        "e42d3ea83ba148569cf6307cc4067549": {
          "model_module": "@jupyter-widgets/base",
          "model_name": "LayoutModel",
          "model_module_version": "1.2.0",
          "state": {
            "_model_module": "@jupyter-widgets/base",
            "_model_module_version": "1.2.0",
            "_model_name": "LayoutModel",
            "_view_count": null,
            "_view_module": "@jupyter-widgets/base",
            "_view_module_version": "1.2.0",
            "_view_name": "LayoutView",
            "align_content": null,
            "align_items": null,
            "align_self": null,
            "border": null,
            "bottom": null,
            "display": null,
            "flex": null,
            "flex_flow": null,
            "grid_area": null,
            "grid_auto_columns": null,
            "grid_auto_flow": null,
            "grid_auto_rows": null,
            "grid_column": null,
            "grid_gap": null,
            "grid_row": null,
            "grid_template_areas": null,
            "grid_template_columns": null,
            "grid_template_rows": null,
            "height": null,
            "justify_content": null,
            "justify_items": null,
            "left": null,
            "margin": null,
            "max_height": null,
            "max_width": null,
            "min_height": null,
            "min_width": null,
            "object_fit": null,
            "object_position": null,
            "order": null,
            "overflow": null,
            "overflow_x": null,
            "overflow_y": null,
            "padding": null,
            "right": null,
            "top": null,
            "visibility": null,
            "width": null
          }
        }
      }
    }
  },
  "nbformat": 4,
  "nbformat_minor": 0
}